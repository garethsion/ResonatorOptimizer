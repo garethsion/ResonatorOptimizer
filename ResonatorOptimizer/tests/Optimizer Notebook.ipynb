{
 "cells": [
  {
   "cell_type": "code",
   "execution_count": 1,
   "metadata": {},
   "outputs": [],
   "source": [
    "import numpy as np\n",
    "import pandas as pd\n",
    "from matplotlib import pyplot as plt\n",
    "\n",
    "import skrf as rf\n",
    "from skrf import Frequency\n",
    "from skrf.media import CPW\n",
    "\n",
    "# Library for computing figures of interest for cpw structures\n",
    "import ResonatorOptimizer as ro\n",
    "\n",
    "plt.style.use('seaborn-deep')\n",
    "plt.rcParams['xtick.labelsize'] = 20\n",
    "plt.rcParams['ytick.labelsize'] = 20"
   ]
  },
  {
   "cell_type": "code",
   "execution_count": 2,
   "metadata": {},
   "outputs": [],
   "source": [
    "# Global Parameters\n",
    "__er = 11.9\n",
    "__fo = 7.3e09\n",
    "__h = 500e-06\n",
    "__t = 50e-09\n",
    "__pen_depth = 39e-09\n",
    "__total_width = 43.8e-06\n",
    "__length = 8102.64e-06\n",
    "\n",
    "__keyind = lambda X,X_array: min(enumerate(X_array), key=lambda x: abs(x[1]-X))"
   ]
  },
  {
   "cell_type": "markdown",
   "metadata": {},
   "source": [
    "# Sweep geometry parameters to find figures of interest for different cpw widths and gaps"
   ]
  },
  {
   "cell_type": "code",
   "execution_count": 3,
   "metadata": {},
   "outputs": [],
   "source": [
    "# Instantiate parameter sweep object\n",
    "ps = ro.ParamSweeps(__length,__total_width,__fo,__er,__h,__t,__pen_depth)\n",
    "\n",
    "# Sweep geometry to see effect on parameters of interest\n",
    "minw, maxw, wit = [2, (__total_width*1e06)-1, 0.01]\n",
    "# minw, maxw, wit = [2, 8, 0.01]\n",
    "params = ps.width_to_gap(minw,maxw,wit=wit)\n",
    "# ps.plot_params(params)"
   ]
  },
  {
   "cell_type": "code",
   "execution_count": null,
   "metadata": {},
   "outputs": [],
   "source": []
  },
  {
   "cell_type": "code",
   "execution_count": 4,
   "metadata": {},
   "outputs": [],
   "source": [
    "# opt = ro.Optimizer()\n",
    "# opt.set_geometry(params,'Lkl',2.190023e+09,wavelength=0.5)\n",
    "\n",
    "\n",
    "\n",
    "# cav_ind,cav_val = __keyind(50,params.Zki)\n",
    "# cav_width = params.width[cav_ind]\n",
    "# cav_gap = params.gap[cav_ind]\n",
    "# cav_length = 8102.64e-06\n",
    "\n",
    "# cavity = ro.cpwCalcs(cav_width,cav_gap,cav_length,__fo, __er, h=__h, t=__t, pen_depth=__pen_depth)\n",
    "# cav_f0 = 1 / (2 *cav_length* np.sqrt(cavity.capacitance_per_length() * cavity.Ltotal()))\n",
    "# cav_vp = 1 / (np.sqrt(cavity.capacitance_per_length() * cavity.Ltotal()))\n",
    "# cav_E = .5*(cavity.phase_velocity() / cavity.resonant_freq())\n",
    "\n",
    "# cav_f0*1e-09\n",
    "# cav_vp*1e-06\n",
    "# cav_E*1e06"
   ]
  },
  {
   "cell_type": "code",
   "execution_count": 5,
   "metadata": {},
   "outputs": [],
   "source": [
    "def set_geometry(swept_params,param,param_val,wavelength=1):\n",
    "    \"\"\" Sets the width, gap, and length of the cpw based on a desired input parameter\"\"\"\n",
    "    parameter = swept_params[param]\n",
    "    ind, val = __keyind(param_val,parameter)\n",
    "    \n",
    "    width = swept_params.width[ind]\n",
    "    gap = swept_params.gap[ind]\n",
    "    \n",
    "    dic = {'width':width,'gap':gap}\n",
    "    df = pd.DataFrame(data=dic,index=[0])\n",
    "\n",
    "    return df"
   ]
  },
  {
   "cell_type": "code",
   "execution_count": 11,
   "metadata": {},
   "outputs": [],
   "source": [
    "def get_fo(swept_params,param,param_val,wavelength=1):\n",
    "    geo = set_geometry(swept_params,param,param_val,wavelength=wavelength)\n",
    "    index = np.where(params.width==__keyind(params.width, geo.width.values)[1])[0][0]\n",
    "    fo = params.res_freq[index]\n",
    "    return geo, index, fo\n",
    "\n",
    "def calc_length(swept_params,fo=1e09,Lkl=0,wavelength=1):\n",
    "    geo1, index1, fo1 = get_fo(swept_params,'res_freq',fo,wavelength=0.5)\n",
    "    geo2, index2, fo2 = get_fo(swept_params,'Lkl',Lkl,wavelength=0.5)                              \n",
    "    \n",
    "    l1 = .5*(swept_params.vp[index2] /swept_params.res_freq[index2])\n",
    "    l2 = .5*( 1 / (2 * (wavelength) * fo1 * np.sqrt(swept_params.Cl[index2] * swept_params.Ltot[index2])) )\n",
    "    \n",
    "    df = pd.DataFrame({'lo':[l1], 'leff':l2})\n",
    "    return df"
   ]
  },
  {
   "cell_type": "code",
   "execution_count": 15,
   "metadata": {},
   "outputs": [],
   "source": [
    "cav_length = calc_length(params, fo=7.1943e+09, Lkl=2e-06, wavelength=0.5)"
   ]
  },
  {
   "cell_type": "code",
   "execution_count": 16,
   "metadata": {},
   "outputs": [],
   "source": [
    "# Get desired resonant frequency\n",
    "geo = set_geometry(params,'res_freq',7.1943e+09,wavelength=0.5)\n",
    "index = np.where(params.width==__keyind(params.width, geo.width.values)[1])[0][0]\n",
    "fo = params.res_freq[index]\n",
    "\n",
    "# Get acquired resonant frequency with current geometry\n",
    "geo_new = set_geometry(params,'Lkl',2e-06,wavelength=0.5)\n",
    "index_new = np.where(params.width==__keyind(params.width, geo_new.width.values)[1])[0][0]\n",
    "fo_new = params.res_freq[index_new]\n",
    "\n",
    "cal_length = params.vp[index_new] / params.res_freq[index_new]\n",
    "new_length = 1 / (2 * (0.5) * fo * np.sqrt(params.Cl[index_new] * params.Ltot[index_new]))\n",
    "length = .5*new_length"
   ]
  },
  {
   "cell_type": "markdown",
   "metadata": {},
   "source": [
    "# Create Cavity object"
   ]
  },
  {
   "cell_type": "code",
   "execution_count": 17,
   "metadata": {},
   "outputs": [
    {
     "data": {
      "text/plain": [
       "0    7.194337e+18\n",
       "dtype: float64"
      ]
     },
     "execution_count": 17,
     "metadata": {},
     "output_type": "execute_result"
    }
   ],
   "source": [
    "cav_width, cav_gap = set_geometry(params,'Lkl',2e-06,wavelength=0.5)\n",
    "cav_length = calc_length(params, fo=7.1943e+09, Lkl=2e-06, wavelength=0.5)\n",
    "cavity = ro.cpwCalcs(geo_new.width,geo_new.gap,cav_length,__fo, __er, h=__h, t=__t, pen_depth=__pen_depth)\n",
    "cav_f0 = 1 / (2 *cav_length.leff* np.sqrt(cavity.capacitance_per_length() * cavity.Ltotal()))\n",
    "cav_f0*1e09"
   ]
  },
  {
   "cell_type": "markdown",
   "metadata": {},
   "source": [
    "# Create LowZ object"
   ]
  },
  {
   "cell_type": "code",
   "execution_count": 18,
   "metadata": {},
   "outputs": [
    {
     "data": {
      "text/plain": [
       "0    2.049393\n",
       "Name: leff, dtype: float64"
      ]
     },
     "execution_count": 18,
     "metadata": {},
     "output_type": "execute_result"
    }
   ],
   "source": [
    "lowZ_geo = set_geometry(params,'Zki',30,wavelength=0.25)\n",
    "lowZ_width, lowZ_gap = [lowZ_geo.width.values[0], lowZ_geo.gap.values[0]]\n",
    "lowZ_length = calc_length(params, fo=7.1943e+09, Lkl=2e-07, wavelength=0.25)\n",
    "\n",
    "lowZ = ro.cpwCalcs(lowZ_width,lowZ_gap,lowZ_length,__fo, __er, h=__h, t=__t, pen_depth=__pen_depth)\n",
    "low_f0 = 1 / (4 * lowZ_length.leff* np.sqrt(lowZ.capacitance_per_length() * lowZ.Ltotal() ) )\n",
    "low_f0*1e-09"
   ]
  },
  {
   "cell_type": "code",
   "execution_count": 24,
   "metadata": {},
   "outputs": [
    {
     "data": {
      "text/plain": [
       "0    0.000037\n",
       "Name: width, dtype: float64"
      ]
     },
     "execution_count": 24,
     "metadata": {},
     "output_type": "execute_result"
    }
   ],
   "source": [
    "lowZ_geo.width"
   ]
  },
  {
   "cell_type": "code",
   "execution_count": null,
   "metadata": {},
   "outputs": [],
   "source": []
  }
 ],
 "metadata": {
  "kernelspec": {
   "display_name": "Python 3",
   "language": "python",
   "name": "python3"
  },
  "language_info": {
   "codemirror_mode": {
    "name": "ipython",
    "version": 3
   },
   "file_extension": ".py",
   "mimetype": "text/x-python",
   "name": "python",
   "nbconvert_exporter": "python",
   "pygments_lexer": "ipython3",
   "version": "3.6.3"
  }
 },
 "nbformat": 4,
 "nbformat_minor": 2
}
