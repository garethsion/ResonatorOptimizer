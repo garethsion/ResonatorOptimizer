{
 "cells": [
  {
   "cell_type": "code",
   "execution_count": 1,
   "metadata": {},
   "outputs": [],
   "source": [
    "import numpy as np\n",
    "import ResonatorOptimizer as ro\n",
    "import lmfit\n",
    "from lmfit.models import BreitWignerModel,LinearModel\n",
    "from matplotlib import pyplot as plt"
   ]
  },
  {
   "cell_type": "code",
   "execution_count": 7,
   "metadata": {},
   "outputs": [],
   "source": [
    "class abcd:\n",
    "\n",
    "    def __init__(self,freq,cpw,Ck=1e-15):\n",
    "        self.__freq = freq\n",
    "        self.__cpw = cpw\n",
    "        self.__Ck = Ck\n",
    "        return\n",
    "    \n",
    "    def port(self):\n",
    "        Zport = 1 / (1j*2*np.pi*self.__freq*self.__Ck)\n",
    "        return [np.matrix(((1,Zport[i]),(0,1)),dtype=complex) for i in range(len(freq))]\n",
    "\n",
    "    def transmission(self,gamma,length,Z0):\n",
    "        t11 = np.cosh(gamma*length)\n",
    "        t12 = Z0 * np.sinh(gamma*length)\n",
    "        t21 = (1/Z0) * np.sinh(gamma*length)\n",
    "        t22 = np.cosh(gamma*length)\n",
    "        return [np.matrix(([t11[i],t12[i]],[t21[i],t22[i]]),dtype=complex) for i in range(len(gamma))]\n",
    "\n",
    "    def abcd(self,inport,transmission,outport):\n",
    "        return inport * transmission * outport\n",
    "\n",
    "    def s21(self,Rload=50,format='db'):\n",
    "        abcd = self.abcd( self.port() * self.transmission() * self.port() )\n",
    "        A = abcd.flat[0]\n",
    "        B = abcd.flat[0]\n",
    "        C = abcd.flat[0]\n",
    "        D = abcd.flat[0]\n",
    "\n",
    "        s21 = 2 / (A + (B/Rload) + C*Rload + D)\n",
    "\n",
    "        if format == 'db':\n",
    "            return 20*np.log10(s21)\n",
    "        elif format == 'mag':\n",
    "            return s21\n",
    "        else:\n",
    "            raise ValueError('The format specified is not recognized. Please choose either \\'db\\' or \\'mag\\'')\n",
    "            \n",
    "    def Qint(self,alpha,length):\n",
    "        return np.pi / (alpha * 2 * length)\n",
    "    \n",
    "    def Qext(self):\n",
    "        pass\n",
    "    \n",
    "    def Qloaded(self):\n",
    "        pass\n",
    "    \n",
    "    def insertion_loss(self,qint,qext,format='db'):\n",
    "        g = qint/qext\n",
    "        if format == 'db':\n",
    "            return -20*np.log10(g/(g+1))\n",
    "        elif format == 'mag':\n",
    "            return g/(g+1)\n",
    "        else:\n",
    "            raise ValueError('The format specified is not recognized. Please choose either \\'db\\' or \\'mag\\'')"
   ]
  },
  {
   "cell_type": "code",
   "execution_count": 5,
   "metadata": {},
   "outputs": [],
   "source": [
    "# Global Parameters\n",
    "__er = 11.9\n",
    "__fo = 7.3e09\n",
    "__h = 500e-06\n",
    "__t = 50e-09\n",
    "__pen_depth = 39e-09\n",
    "__total_width = 100e-06\n",
    "__length = 8102.64e-06\n",
    "__width = 20e-06\n",
    "__gap = .5*(__total_width-__width)\n",
    "__Ck = 1e-15\n",
    "\n",
    "__keyind = lambda X,X_array: min(enumerate(X_array), key=lambda x: abs(x[1]-X))"
   ]
  },
  {
   "cell_type": "code",
   "execution_count": 6,
   "metadata": {},
   "outputs": [],
   "source": [
    "freq = np.linspace(6.8,6.9,500)*1e09\n",
    "\n",
    "# Define a cpw \n",
    "cpw = ro.cpwCalcs(__width,__gap,__length,__fo, __er, h=__h, t=__t, pen_depth=__pen_depth)\n",
    "\n"
   ]
  },
  {
   "cell_type": "code",
   "execution_count": null,
   "metadata": {},
   "outputs": [],
   "source": []
  }
 ],
 "metadata": {
  "kernelspec": {
   "display_name": "Python 3",
   "language": "python",
   "name": "python3"
  },
  "language_info": {
   "codemirror_mode": {
    "name": "ipython",
    "version": 3
   },
   "file_extension": ".py",
   "mimetype": "text/x-python",
   "name": "python",
   "nbconvert_exporter": "python",
   "pygments_lexer": "ipython3",
   "version": "3.6.3"
  }
 },
 "nbformat": 4,
 "nbformat_minor": 2
}
