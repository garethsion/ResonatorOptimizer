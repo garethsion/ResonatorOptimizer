{
 "cells": [
  {
   "cell_type": "code",
   "execution_count": 2,
   "metadata": {},
   "outputs": [],
   "source": [
    "import ResonatorOptimizer as ro\n",
    "import numpy as np"
   ]
  },
  {
   "cell_type": "code",
   "execution_count": 3,
   "metadata": {},
   "outputs": [],
   "source": [
    "# Global Parameters\n",
    "__er = 11.9\n",
    "__fo = 7.3e09\n",
    "__h = 500e-06\n",
    "__t = 50e-09\n",
    "__pen_depth = 39e-09\n",
    "__total_width = 100e-06\n",
    "__length = 8102.64e-06\n",
    "__width = 20e-06\n",
    "__gap = .5*(__total_width-__width)\n",
    "__Ck = 1e-15\n",
    "\n",
    "freq = np.linspace(6.8,6.9,500)*1e09\n",
    "\n",
    "__keyind = lambda X,X_array: min(enumerate(X_array), key=lambda x: abs(x[1]-X))"
   ]
  },
  {
   "cell_type": "code",
   "execution_count": 4,
   "metadata": {},
   "outputs": [],
   "source": [
    "# Define a cpw \n",
    "cpw = ro.cpwCalcs(__width,__gap,__length,__fo, __er, h=__h, t=__t, pen_depth=__pen_depth)\n",
    "\n",
    "# Gather phase parameters\n",
    "alpha = cpw.alpha()\n",
    "beta = cpw.beta(freq)\n",
    "gamma = cpw.gamma(freq)\n",
    "\n",
    "Z0 = cpw.impedance_kinetic()\n",
    "\n",
    "sp = ro.Sparams(freq=freq,gamma=gamma,length=__length,Z0=Z0,Ck=1e-15)\n",
    "s21 = sp.s21(Rload=50,format='db')"
   ]
  },
  {
   "cell_type": "code",
   "execution_count": 6,
   "metadata": {},
   "outputs": [
    {
     "data": {
      "text/plain": [
       "79.26798091129743"
      ]
     },
     "execution_count": 6,
     "metadata": {},
     "output_type": "execute_result"
    }
   ],
   "source": [
    "Z0"
   ]
  },
  {
   "cell_type": "code",
   "execution_count": null,
   "metadata": {},
   "outputs": [],
   "source": []
  }
 ],
 "metadata": {
  "kernelspec": {
   "display_name": "Python 3",
   "language": "python",
   "name": "python3"
  },
  "language_info": {
   "codemirror_mode": {
    "name": "ipython",
    "version": 3
   },
   "file_extension": ".py",
   "mimetype": "text/x-python",
   "name": "python",
   "nbconvert_exporter": "python",
   "pygments_lexer": "ipython3",
   "version": "3.6.3"
  }
 },
 "nbformat": 4,
 "nbformat_minor": 2
}
