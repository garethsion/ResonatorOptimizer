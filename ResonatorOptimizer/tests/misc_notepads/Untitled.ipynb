{
 "cells": [
  {
   "cell_type": "code",
   "execution_count": 3,
   "metadata": {},
   "outputs": [],
   "source": [
    "import numpy as np\n",
    "class TransmissionLine:\n",
    "    def __init__(self):\n",
    "        return\n",
    "    \n",
    "    def port(self,Z0=50):\n",
    "        \"\"\" Input output port ABCD matrix\"\"\"\n",
    "        return np.matrix(((1,Z0),(0,1)),dtype=complex)\n",
    "    \n",
    "    def inport(self, freq, couplingCapacitance):\n",
    "        n=np.size(freq)\n",
    "        Zin = 1/(1j*freq*couplingCapacitance)\n",
    "        return np.append(np.ones(n),[np.zeros(n),Zin,np.ones(n)]).reshape(n,2,2,order='F')\n",
    "        \n",
    "    def outport(self, freq, couplingCapacitance):\n",
    "        n=np.size(freq)\n",
    "        Zin = 1/(1j*freq*couplingCapacitance)\n",
    "        return np.append(np.ones(n),[np.zeros(n),Zin,np.ones(n)]).reshape(n,2,2,order='F')\n",
    "    \n",
    "    def transmission(self,Z0,beta,length):\n",
    "        \"\"\"Transfer matrix\n",
    "        \n",
    "        params:\n",
    "            Z0 : characteristic impedance of the line\n",
    "            beta : phase constant\n",
    "            length : length of the transmission line\n",
    "        \n",
    "        returns : np.matrix (dtype=complex)\n",
    "        \"\"\"\n",
    "        t11 = np.cosh(beta * length)\n",
    "        t12 = 1j*Z0*np.sinh(beta*length)\n",
    "        t21 = 1j*(1/Z0)*np.sinh(beta*length)\n",
    "        t22 = np.cosh(beta * length)\n",
    "\n",
    "#         return np.matrix(((a,b),(c,d)),dtype=complex)\n",
    "        np.append(t11*np.ones(n),[t21*np.ones(n),t12*np.ones(n),t22*np.ones(n)]).reshape(n,2,2,order='F')\n",
    "    \n",
    "    def abcd(self,inport,transmission,outport):\n",
    "        return inport,transmission,outport\n",
    "    \n",
    "    def abcd_to_s(self,ABCD,Z0):\n",
    "        \"\"\"Convert transfer matrix to S-parameters in magnitude\"\"\"\n",
    "        A = ABCD[0,0]\n",
    "        B = ABCD[0,1]\n",
    "        C = ABCD[1,0]\n",
    "        D = ABCD[1,1]\n",
    "        S11 = (A + B/Z0 - C/Z0 - D) / (A + B/Z0 + C/Z0 + D)\n",
    "        S12 = (2*(A*D - B*C)) / (A + B/Z0 + C/Z0 + D)\n",
    "        S21 = 2 / (A + B/Z0 + C/Z0 + D)\n",
    "        S22 = (-A + B/Z0 - C/Z0 + D) / (A + B/Z0 + C/Z0 + D)\n",
    "\n",
    "        return np.matrix(((S11,S12),(S21,S22)),dtype=complex)\n",
    "    \n",
    "    def vec_abcd_to_s(self,A,B,C,D,Z0):\n",
    "        \"\"\"Convert transfer matrix to S-parameters in magnitude\"\"\"\n",
    "        S11 = (A + B/Z0 - C/Z0 - D) / (A + B/Z0 + C/Z0 + D)\n",
    "        S12 = (2*(A*D - B*C)) / (A + B/Z0 + C/Z0 + D)\n",
    "        S21 = 2 / (A + B/Z0 + C/Z0 + D)\n",
    "        S22 = (-A + B/Z0 - C/Z0 + D) / (A + B/Z0 + C/Z0 + D)\n",
    "\n",
    "        return S11,S12,S21,S22\n",
    "\n",
    "    def mag_to_db(self,mag):\n",
    "        \"\"\" Convert magnitude to dB\"\"\"\n",
    "        return 20*np.log10(mag)"
   ]
  },
  {
   "cell_type": "code",
   "execution_count": 10,
   "metadata": {},
   "outputs": [
    {
     "name": "stdout",
     "output_type": "stream",
     "text": [
      "[[[1.0 -0.1j]\n",
      "  [array([0.]) array([1.])]]]\n"
     ]
    }
   ],
   "source": [
    "tl = TransmissionLine()\n",
    "print(tl.outport(10,1))"
   ]
  },
  {
   "cell_type": "code",
   "execution_count": 33,
   "metadata": {},
   "outputs": [],
   "source": [
    "import ResonatorOptimizer as ro\n",
    "from matplotlib import pyplot as plt"
   ]
  },
  {
   "cell_type": "code",
   "execution_count": 34,
   "metadata": {},
   "outputs": [],
   "source": [
    "# Global Parameters\n",
    "__er = 11.9\n",
    "__fo = 7.3e09\n",
    "__h = 500e-06\n",
    "__t = 50e-09\n",
    "__pen_depth = 39e-09\n",
    "__total_width = 43.8e-06\n",
    "__length = 8102.64e-06\n",
    "\n",
    "__keyind = lambda X,X_array: min(enumerate(X_array), key=lambda x: abs(x[1]-X))\n",
    "gap = lambda w: .5*(__total_width - w)"
   ]
  },
  {
   "cell_type": "markdown",
   "metadata": {},
   "source": [
    "# Test library with capacitively coupled half wavelength resonator"
   ]
  },
  {
   "cell_type": "code",
   "execution_count": 35,
   "metadata": {},
   "outputs": [],
   "source": [
    "width,length = 4.00e-06,3502.64e-06\n",
    "cpw= ro.cpwCalcs(width=width, gap=gap(width), length=length, fo=__fo, er=__er, h=__h, t=__t, pen_depth=__pen_depth)\n",
    "cpw_Z = cpw.impedance_kinetic()"
   ]
  },
  {
   "cell_type": "code",
   "execution_count": 50,
   "metadata": {},
   "outputs": [
    {
     "data": {
      "text/plain": [
       "matrix([[1.0643503 +0.j        , 0.       +57.36415882j]])"
      ]
     },
     "execution_count": 50,
     "metadata": {},
     "output_type": "execute_result"
    }
   ],
   "source": [
    "freq = np.arange(2e09,12e09,0.01e09)\n",
    "\n",
    "tl = TransmissionLine()\n",
    "beta = np.array([])\n",
    "a,b,c,d = (np.array([]) for i in range(4))\n",
    "\n",
    "for i in range(len(freq)):\n",
    "    beta = np.append(beta,freq[i] * np.sqrt( (cpw.inductance_per_length() + cpw.Lk()*length) * (cpw.capacitance_per_length()) ))\n",
    "    \n",
    "    inp = tl.inport(freq[i],1e-12)\n",
    "    tr = tl.transmission(cpw_Z,beta[i],length)\n",
    "    outp = tl.outport(freq[i],1e-12)\n",
    "    abcd = tl.abcd(inp,tr,outp)\n",
    "#     a,b,c,d = np.append(a,abcd[0,0]), np.append(b,abcd[0,1]), np.append(c,abcd[1,0]), np.append(d,abcd[1,1]) \n",
    "#     abcd = tl.transmission_line(low_Z,beta[i],lowZ_length)\n",
    "#     abcd = np.matmul(tl.port(50),abcd,tl.port(50))\n",
    "#     a,b,c,d = np.append(a,abcd[0][0][0]), np.append(b,abcd[0,1]), np.append(c,abcd[1,0]), np.append(d,abcd[1,1]) \n",
    "\n",
    "abcd[1][0]\n"
   ]
  },
  {
   "cell_type": "code",
   "execution_count": null,
   "metadata": {},
   "outputs": [],
   "source": []
  },
  {
   "cell_type": "code",
   "execution_count": null,
   "metadata": {},
   "outputs": [],
   "source": []
  },
  {
   "cell_type": "code",
   "execution_count": null,
   "metadata": {},
   "outputs": [],
   "source": []
  },
  {
   "cell_type": "markdown",
   "metadata": {},
   "source": [
    "# Define cpw structures"
   ]
  },
  {
   "cell_type": "code",
   "execution_count": 5,
   "metadata": {},
   "outputs": [],
   "source": [
    "cav_width,cav_length = 4.00e-06,3502.64e-06\n",
    "cavity= ro.cpwCalcs(width=cav_width, gap=gap(cav_width), length=cav_length, fo=__fo, er=__er, h=__h, t=__t, pen_depth=__pen_depth)\n",
    "cav_Z = cavity.impedance_kinetic()"
   ]
  },
  {
   "cell_type": "code",
   "execution_count": 6,
   "metadata": {},
   "outputs": [],
   "source": [
    "lowZ_width,lowZ_length = 10.0e-06,cav_length+14e-06\n",
    "Zlow = ro.cpwCalcs(width=lowZ_width, gap=gap(lowZ_width), length=lowZ_length, fo=__fo, er=__er, h=__h, t=__t, pen_depth=__pen_depth)\n",
    "low_Z = Zlow.impedance_kinetic()"
   ]
  },
  {
   "cell_type": "code",
   "execution_count": 7,
   "metadata": {},
   "outputs": [],
   "source": [
    "highZ_width,highZ_length = 2.50e-06,cav_length - cav_length/2 - 736.55e-06\n",
    "Zhigh = ro.cpwCalcs(width=highZ_width, gap=gap(highZ_width), length=highZ_length, fo=__fo, er=__er, h=__h, t=__t, pen_depth=__pen_depth)\n",
    "high_Z = Zhigh.impedance_kinetic()"
   ]
  },
  {
   "cell_type": "markdown",
   "metadata": {},
   "source": [
    "# Calculate transmission properties"
   ]
  },
  {
   "cell_type": "code",
   "execution_count": 12,
   "metadata": {},
   "outputs": [
    {
     "data": {
      "text/plain": [
       "matrix([[ 1.06487124+2.36992102e-01j, 53.24356214+2.82605966e+01j],\n",
       "        [ 0.        +4.73984204e-03j,  1.06487124+0.00000000e+00j]])"
      ]
     },
     "execution_count": 12,
     "metadata": {},
     "output_type": "execute_result"
    }
   ],
   "source": [
    "freq = np.arange(2e09,12e09,0.01e09)\n",
    "\n",
    "tl = TransmissionLine()\n",
    "beta = np.array([])\n",
    "a,b,c,d = (np.array([]) for i in range(4))\n",
    "\n",
    "for i in range(len(freq)):\n",
    "    beta = np.append(beta,freq[i] * np.sqrt( (cavity.inductance_per_length() + cavity.Lk()*cav_length) * (cavity.capacitance_per_length()) ))\n",
    "    abcd = tl.transmission_line(low_Z,beta[i],lowZ_length)\n",
    "    abcd = np.matmul(tl.port(50),abcd,tl.port(50))\n",
    "    a,b,c,d = np.append(a,abcd[0,0]), np.append(b,abcd[0,1]), np.append(c,abcd[1,0]), np.append(d,abcd[1,1]) \n",
    "abcd"
   ]
  },
  {
   "cell_type": "code",
   "execution_count": 16,
   "metadata": {},
   "outputs": [
    {
     "data": {
      "image/png": "[encoded data removed]",
      "text/plain": [
       "<Figure size 432x288 with 1 Axes>"
      ]
     },
     "metadata": {
      "needs_background": "light"
     },
     "output_type": "display_data"
    }
   ],
   "source": [
    "plt.plot(freq,d)\n",
    "plt.show()"
   ]
  },
  {
   "cell_type": "code",
   "execution_count": 72,
   "metadata": {},
   "outputs": [
    {
     "data": {
      "text/plain": [
       "array([1.00178633+0.j, 1.00180425+0.j, 1.00182225+0.j, 1.00184034+0.j,\n",
       "       1.00185852+0.j, 1.00187679+0.j, 1.00189516+0.j, 1.00191361+0.j,\n",
       "       1.00193214+0.j, 1.00195077+0.j, 1.00196949+0.j, 1.0019883 +0.j,\n",
       "       1.0020072 +0.j, 1.00202618+0.j, 1.00204526+0.j, 1.00206443+0.j,\n",
       "       1.00208368+0.j, 1.00210303+0.j, 1.00212246+0.j, 1.00214198+0.j,\n",
       "       1.0021616 +0.j, 1.0021813 +0.j, 1.00220109+0.j, 1.00222097+0.j,\n",
       "       1.00224095+0.j, 1.00226101+0.j, 1.00228116+0.j, 1.0023014 +0.j,\n",
       "       1.00232173+0.j, 1.00234214+0.j, 1.00236265+0.j, 1.00238325+0.j,\n",
       "       1.00240394+0.j, 1.00242471+0.j, 1.00244558+0.j, 1.00246654+0.j,\n",
       "       1.00248758+0.j, 1.00250872+0.j, 1.00252994+0.j, 1.00255125+0.j,\n",
       "       1.00257266+0.j, 1.00259415+0.j, 1.00261573+0.j, 1.0026374 +0.j,\n",
       "       1.00265916+0.j, 1.00268102+0.j, 1.00270296+0.j, 1.00272499+0.j,\n",
       "       1.00274711+0.j, 1.00276931+0.j, 1.00279161+0.j, 1.002814  +0.j,\n",
       "       1.00283648+0.j, 1.00285905+0.j, 1.0028817 +0.j, 1.00290445+0.j,\n",
       "       1.00292728+0.j, 1.00295021+0.j, 1.00297322+0.j, 1.00299633+0.j,\n",
       "       1.00301952+0.j, 1.00304281+0.j, 1.00306618+0.j, 1.00308964+0.j,\n",
       "       1.00311319+0.j, 1.00313684+0.j, 1.00316057+0.j, 1.00318439+0.j,\n",
       "       1.0032083 +0.j, 1.0032323 +0.j, 1.00325639+0.j, 1.00328057+0.j,\n",
       "       1.00330484+0.j, 1.0033292 +0.j, 1.00335364+0.j, 1.00337818+0.j,\n",
       "       1.00340281+0.j, 1.00342753+0.j, 1.00345233+0.j, 1.00347723+0.j,\n",
       "       1.00350221+0.j, 1.00352729+0.j, 1.00355245+0.j, 1.00357771+0.j,\n",
       "       1.00360305+0.j, 1.00362849+0.j, 1.00365401+0.j, 1.00367962+0.j,\n",
       "       1.00370532+0.j, 1.00373112+0.j, 1.003757  +0.j, 1.00378297+0.j,\n",
       "       1.00380903+0.j, 1.00383518+0.j, 1.00386142+0.j, 1.00388775+0.j,\n",
       "       1.00391417+0.j, 1.00394068+0.j, 1.00396728+0.j, 1.00399397+0.j,\n",
       "       1.00402074+0.j, 1.00404761+0.j, 1.00407457+0.j, 1.00410162+0.j,\n",
       "       1.00412875+0.j, 1.00415598+0.j, 1.0041833 +0.j, 1.0042107 +0.j,\n",
       "       1.0042382 +0.j, 1.00426578+0.j, 1.00429346+0.j, 1.00432122+0.j,\n",
       "       1.00434908+0.j, 1.00437702+0.j, 1.00440505+0.j, 1.00443318+0.j,\n",
       "       1.00446139+0.j, 1.00448969+0.j, 1.00451808+0.j, 1.00454656+0.j,\n",
       "       1.00457514+0.j, 1.0046038 +0.j, 1.00463255+0.j, 1.00466139+0.j,\n",
       "       1.00469032+0.j, 1.00471934+0.j, 1.00474845+0.j, 1.00477765+0.j,\n",
       "       1.00480694+0.j, 1.00483632+0.j, 1.00486579+0.j, 1.00489534+0.j,\n",
       "       1.00492499+0.j, 1.00495473+0.j, 1.00498456+0.j, 1.00501447+0.j,\n",
       "       1.00504448+0.j, 1.00507458+0.j, 1.00510476+0.j, 1.00513504+0.j,\n",
       "       1.00516541+0.j, 1.00519586+0.j, 1.00522641+0.j, 1.00525704+0.j,\n",
       "       1.00528777+0.j, 1.00531858+0.j, 1.00534949+0.j, 1.00538048+0.j,\n",
       "       1.00541157+0.j, 1.00544274+0.j, 1.005474  +0.j, 1.00550536+0.j,\n",
       "       1.0055368 +0.j, 1.00556833+0.j, 1.00559996+0.j, 1.00563167+0.j,\n",
       "       1.00566347+0.j, 1.00569536+0.j, 1.00572735+0.j, 1.00575942+0.j,\n",
       "       1.00579158+0.j, 1.00582383+0.j, 1.00585617+0.j, 1.0058886 +0.j,\n",
       "       1.00592112+0.j, 1.00595373+0.j, 1.00598643+0.j, 1.00601922+0.j,\n",
       "       1.0060521 +0.j, 1.00608507+0.j, 1.00611813+0.j, 1.00615128+0.j,\n",
       "       1.00618452+0.j, 1.00621785+0.j, 1.00625127+0.j, 1.00628478+0.j,\n",
       "       1.00631838+0.j, 1.00635207+0.j, 1.00638585+0.j, 1.00641971+0.j,\n",
       "       1.00645367+0.j, 1.00648772+0.j, 1.00652186+0.j, 1.00655609+0.j,\n",
       "       1.0065904 +0.j, 1.00662481+0.j, 1.00665931+0.j, 1.0066939 +0.j,\n",
       "       1.00672857+0.j, 1.00676334+0.j, 1.0067982 +0.j, 1.00683315+0.j,\n",
       "       1.00686818+0.j, 1.00690331+0.j, 1.00693853+0.j, 1.00697383+0.j,\n",
       "       1.00700923+0.j, 1.00704472+0.j, 1.00708029+0.j, 1.00711596+0.j,\n",
       "       1.00715171+0.j, 1.00718756+0.j, 1.0072235 +0.j, 1.00725952+0.j,\n",
       "       1.00729564+0.j, 1.00733184+0.j, 1.00736814+0.j, 1.00740453+0.j,\n",
       "       1.007441  +0.j, 1.00747757+0.j, 1.00751422+0.j, 1.00755097+0.j,\n",
       "       1.0075878 +0.j, 1.00762473+0.j, 1.00766174+0.j, 1.00769885+0.j,\n",
       "       1.00773605+0.j, 1.00777333+0.j, 1.00781071+0.j, 1.00784817+0.j,\n",
       "       1.00788573+0.j, 1.00792337+0.j, 1.00796111+0.j, 1.00799893+0.j,\n",
       "       1.00803685+0.j, 1.00807485+0.j, 1.00811295+0.j, 1.00815113+0.j,\n",
       "       1.00818941+0.j, 1.00822778+0.j, 1.00826623+0.j, 1.00830478+0.j,\n",
       "       1.00834341+0.j, 1.00838214+0.j, 1.00842095+0.j, 1.00845986+0.j,\n",
       "       1.00849885+0.j, 1.00853794+0.j, 1.00857712+0.j, 1.00861638+0.j,\n",
       "       1.00865574+0.j, 1.00869518+0.j, 1.00873472+0.j, 1.00877435+0.j,\n",
       "       1.00881406+0.j, 1.00885387+0.j, 1.00889376+0.j, 1.00893375+0.j,\n",
       "       1.00897383+0.j, 1.00901399+0.j, 1.00905425+0.j, 1.0090946 +0.j,\n",
       "       1.00913503+0.j, 1.00917556+0.j, 1.00921618+0.j, 1.00925689+0.j,\n",
       "       1.00929768+0.j, 1.00933857+0.j, 1.00937955+0.j, 1.00942062+0.j,\n",
       "       1.00946177+0.j, 1.00950302+0.j, 1.00954436+0.j, 1.00958579+0.j,\n",
       "       1.00962731+0.j, 1.00966891+0.j, 1.00971061+0.j, 1.0097524 +0.j,\n",
       "       1.00979428+0.j, 1.00983625+0.j, 1.00987831+0.j, 1.00992046+0.j,\n",
       "       1.0099627 +0.j, 1.01000503+0.j, 1.01004745+0.j, 1.01008996+0.j,\n",
       "       1.01013256+0.j, 1.01017525+0.j, 1.01021803+0.j, 1.0102609 +0.j,\n",
       "       1.01030386+0.j, 1.01034691+0.j, 1.01039006+0.j, 1.01043329+0.j,\n",
       "       1.01047661+0.j, 1.01052002+0.j, 1.01056352+0.j, 1.01060712+0.j,\n",
       "       1.0106508 +0.j, 1.01069457+0.j, 1.01073844+0.j, 1.01078239+0.j,\n",
       "       1.01082644+0.j, 1.01087057+0.j, 1.01091479+0.j, 1.01095911+0.j,\n",
       "       1.01100351+0.j, 1.01104801+0.j, 1.01109259+0.j, 1.01113727+0.j,\n",
       "       1.01118204+0.j, 1.01122689+0.j, 1.01127184+0.j, 1.01131688+0.j,\n",
       "       1.011362  +0.j, 1.01140722+0.j, 1.01145253+0.j, 1.01149793+0.j,\n",
       "       1.01154342+0.j, 1.011589  +0.j, 1.01163467+0.j, 1.01168042+0.j,\n",
       "       1.01172627+0.j, 1.01177221+0.j, 1.01181825+0.j, 1.01186437+0.j,\n",
       "       1.01191058+0.j, 1.01195688+0.j, 1.01200327+0.j, 1.01204975+0.j,\n",
       "       1.01209633+0.j, 1.01214299+0.j, 1.01218974+0.j, 1.01223659+0.j,\n",
       "       1.01228352+0.j, 1.01233055+0.j, 1.01237766+0.j, 1.01242487+0.j,\n",
       "       1.01247216+0.j, 1.01251955+0.j, 1.01256702+0.j, 1.01261459+0.j,\n",
       "       1.01266225+0.j, 1.01271   +0.j, 1.01275784+0.j, 1.01280576+0.j,\n",
       "       1.01285378+0.j, 1.01290189+0.j, 1.01295009+0.j, 1.01299838+0.j,\n",
       "       1.01304676+0.j, 1.01309524+0.j, 1.0131438 +0.j, 1.01319245+0.j,\n",
       "       1.01324119+0.j, 1.01329003+0.j, 1.01333895+0.j, 1.01338796+0.j,\n",
       "       1.01343707+0.j, 1.01348626+0.j, 1.01353555+0.j, 1.01358493+0.j,\n",
       "       1.01363439+0.j, 1.01368395+0.j, 1.0137336 +0.j, 1.01378333+0.j,\n",
       "       1.01383316+0.j, 1.01388308+0.j, 1.01393309+0.j, 1.01398319+0.j,\n",
       "       1.01403338+0.j, 1.01408367+0.j, 1.01413404+0.j, 1.0141845 +0.j,\n",
       "       1.01423505+0.j, 1.0142857 +0.j, 1.01433643+0.j, 1.01438726+0.j,\n",
       "       1.01443817+0.j, 1.01448918+0.j, 1.01454027+0.j, 1.01459146+0.j,\n",
       "       1.01464274+0.j, 1.01469411+0.j, 1.01474556+0.j, 1.01479711+0.j,\n",
       "       1.01484875+0.j, 1.01490049+0.j, 1.01495231+0.j, 1.01500422+0.j,\n",
       "       1.01505622+0.j, 1.01510831+0.j, 1.0151605 +0.j, 1.01521277+0.j,\n",
       "       1.01526514+0.j, 1.01531759+0.j, 1.01537014+0.j, 1.01542278+0.j,\n",
       "       1.0154755 +0.j, 1.01552832+0.j, 1.01558123+0.j, 1.01563423+0.j,\n",
       "       1.01568732+0.j, 1.0157405 +0.j, 1.01579378+0.j, 1.01584714+0.j,\n",
       "       1.01590059+0.j, 1.01595414+0.j, 1.01600777+0.j, 1.0160615 +0.j,\n",
       "       1.01611531+0.j, 1.01616922+0.j, 1.01622322+0.j, 1.0162773 +0.j,\n",
       "       1.01633148+0.j, 1.01638575+0.j, 1.01644011+0.j, 1.01649457+0.j,\n",
       "       1.01654911+0.j, 1.01660374+0.j, 1.01665846+0.j, 1.01671328+0.j,\n",
       "       1.01676818+0.j, 1.01682318+0.j, 1.01687827+0.j, 1.01693344+0.j,\n",
       "       1.01698871+0.j, 1.01704407+0.j, 1.01709952+0.j, 1.01715506+0.j,\n",
       "       1.01721069+0.j, 1.01726642+0.j, 1.01732223+0.j, 1.01737813+0.j,\n",
       "       1.01743413+0.j, 1.01749022+0.j, 1.01754639+0.j, 1.01760266+0.j,\n",
       "       1.01765902+0.j, 1.01771547+0.j, 1.01777201+0.j, 1.01782864+0.j,\n",
       "       1.01788536+0.j, 1.01794217+0.j, 1.01799908+0.j, 1.01805607+0.j,\n",
       "       1.01811316+0.j, 1.01817033+0.j, 1.0182276 +0.j, 1.01828496+0.j,\n",
       "       1.01834241+0.j, 1.01839995+0.j, 1.01845758+0.j, 1.0185153 +0.j,\n",
       "       1.01857311+0.j, 1.01863102+0.j, 1.01868901+0.j, 1.0187471 +0.j,\n",
       "       1.01880528+0.j, 1.01886354+0.j, 1.0189219 +0.j, 1.01898035+0.j,\n",
       "       1.01903889+0.j, 1.01909752+0.j, 1.01915625+0.j, 1.01921506+0.j,\n",
       "       1.01927396+0.j, 1.01933296+0.j, 1.01939205+0.j, 1.01945122+0.j,\n",
       "       1.01951049+0.j, 1.01956985+0.j, 1.0196293 +0.j, 1.01968885+0.j,\n",
       "       1.01974848+0.j, 1.0198082 +0.j, 1.01986802+0.j, 1.01992792+0.j,\n",
       "       1.01998792+0.j, 1.02004801+0.j, 1.02010819+0.j, 1.02016846+0.j,\n",
       "       1.02022882+0.j, 1.02028927+0.j, 1.02034982+0.j, 1.02041045+0.j,\n",
       "       1.02047118+0.j, 1.02053199+0.j, 1.0205929 +0.j, 1.0206539 +0.j,\n",
       "       1.02071499+0.j, 1.02077617+0.j, 1.02083745+0.j, 1.02089881+0.j,\n",
       "       1.02096026+0.j, 1.02102181+0.j, 1.02108345+0.j, 1.02114518+0.j,\n",
       "       1.021207  +0.j, 1.02126891+0.j, 1.02133091+0.j, 1.021393  +0.j,\n",
       "       1.02145519+0.j, 1.02151746+0.j, 1.02157983+0.j, 1.02164229+0.j,\n",
       "       1.02170484+0.j, 1.02176748+0.j, 1.02183021+0.j, 1.02189303+0.j,\n",
       "       1.02195594+0.j, 1.02201895+0.j, 1.02208205+0.j, 1.02214523+0.j,\n",
       "       1.02220851+0.j, 1.02227188+0.j, 1.02233535+0.j, 1.0223989 +0.j,\n",
       "       1.02246254+0.j, 1.02252628+0.j, 1.02259011+0.j, 1.02265402+0.j,\n",
       "       1.02271803+0.j, 1.02278214+0.j, 1.02284633+0.j, 1.02291061+0.j,\n",
       "       1.02297499+0.j, 1.02303945+0.j, 1.02310401+0.j, 1.02316866+0.j,\n",
       "       1.0232334 +0.j, 1.02329823+0.j, 1.02336315+0.j, 1.02342817+0.j,\n",
       "       1.02349327+0.j, 1.02355847+0.j, 1.02362376+0.j, 1.02368914+0.j,\n",
       "       1.02375461+0.j, 1.02382017+0.j, 1.02388583+0.j, 1.02395157+0.j,\n",
       "       1.02401741+0.j, 1.02408334+0.j, 1.02414936+0.j, 1.02421547+0.j,\n",
       "       1.02428167+0.j, 1.02434797+0.j, 1.02441435+0.j, 1.02448083+0.j,\n",
       "       1.0245474 +0.j, 1.02461406+0.j, 1.02468081+0.j, 1.02474765+0.j,\n",
       "       1.02481459+0.j, 1.02488161+0.j, 1.02494873+0.j, 1.02501594+0.j,\n",
       "       1.02508324+0.j, 1.02515063+0.j, 1.02521812+0.j, 1.02528569+0.j,\n",
       "       1.02535336+0.j, 1.02542112+0.j, 1.02548897+0.j, 1.02555691+0.j,\n",
       "       1.02562494+0.j, 1.02569307+0.j, 1.02576128+0.j, 1.02582959+0.j,\n",
       "       1.02589799+0.j, 1.02596648+0.j, 1.02603507+0.j, 1.02610374+0.j,\n",
       "       1.02617251+0.j, 1.02624136+0.j, 1.02631031+0.j, 1.02637935+0.j,\n",
       "       1.02644849+0.j, 1.02651771+0.j, 1.02658703+0.j, 1.02665643+0.j,\n",
       "       1.02672593+0.j, 1.02679552+0.j, 1.02686521+0.j, 1.02693498+0.j,\n",
       "       1.02700485+0.j, 1.0270748 +0.j, 1.02714485+0.j, 1.02721499+0.j,\n",
       "       1.02728523+0.j, 1.02735555+0.j, 1.02742597+0.j, 1.02749647+0.j,\n",
       "       1.02756707+0.j, 1.02763777+0.j, 1.02770855+0.j, 1.02777942+0.j,\n",
       "       1.02785039+0.j, 1.02792145+0.j, 1.0279926 +0.j, 1.02806384+0.j,\n",
       "       1.02813517+0.j, 1.0282066 +0.j, 1.02827812+0.j, 1.02834973+0.j,\n",
       "       1.02842143+0.j, 1.02849322+0.j, 1.02856511+0.j, 1.02863708+0.j,\n",
       "       1.02870915+0.j, 1.02878131+0.j, 1.02885356+0.j, 1.02892591+0.j,\n",
       "       1.02899834+0.j, 1.02907087+0.j, 1.02914349+0.j, 1.0292162 +0.j,\n",
       "       1.02928901+0.j, 1.0293619 +0.j, 1.02943489+0.j, 1.02950797+0.j,\n",
       "       1.02958114+0.j, 1.0296544 +0.j, 1.02972776+0.j, 1.0298012 +0.j,\n",
       "       1.02987474+0.j, 1.02994837+0.j, 1.0300221 +0.j, 1.03009591+0.j,\n",
       "       1.03016982+0.j, 1.03024382+0.j, 1.03031791+0.j, 1.03039209+0.j,\n",
       "       1.03046636+0.j, 1.03054073+0.j, 1.03061519+0.j, 1.03068974+0.j,\n",
       "       1.03076438+0.j, 1.03083912+0.j, 1.03091394+0.j, 1.03098886+0.j,\n",
       "       1.03106387+0.j, 1.03113898+0.j, 1.03121417+0.j, 1.03128946+0.j,\n",
       "       1.03136484+0.j, 1.03144031+0.j, 1.03151587+0.j, 1.03159153+0.j,\n",
       "       1.03166728+0.j, 1.03174312+0.j, 1.03181905+0.j, 1.03189507+0.j,\n",
       "       1.03197119+0.j, 1.0320474 +0.j, 1.0321237 +0.j, 1.03220009+0.j,\n",
       "       1.03227657+0.j, 1.03235315+0.j, 1.03242982+0.j, 1.03250658+0.j,\n",
       "       1.03258344+0.j, 1.03266038+0.j, 1.03273742+0.j, 1.03281455+0.j,\n",
       "       1.03289177+0.j, 1.03296909+0.j, 1.03304649+0.j, 1.03312399+0.j,\n",
       "       1.03320158+0.j, 1.03327927+0.j, 1.03335704+0.j, 1.03343491+0.j,\n",
       "       1.03351287+0.j, 1.03359092+0.j, 1.03366907+0.j, 1.03374731+0.j,\n",
       "       1.03382564+0.j, 1.03390406+0.j, 1.03398257+0.j, 1.03406118+0.j,\n",
       "       1.03413988+0.j, 1.03421867+0.j, 1.03429755+0.j, 1.03437653+0.j,\n",
       "       1.0344556 +0.j, 1.03453476+0.j, 1.03461401+0.j, 1.03469335+0.j,\n",
       "       1.03477279+0.j, 1.03485232+0.j, 1.03493195+0.j, 1.03501166+0.j,\n",
       "       1.03509147+0.j, 1.03517137+0.j, 1.03525136+0.j, 1.03533144+0.j,\n",
       "       1.03541162+0.j, 1.03549189+0.j, 1.03557225+0.j, 1.03565271+0.j,\n",
       "       1.03573325+0.j, 1.03581389+0.j, 1.03589463+0.j, 1.03597545+0.j,\n",
       "       1.03605637+0.j, 1.03613738+0.j, 1.03621848+0.j, 1.03629967+0.j,\n",
       "       1.03638096+0.j, 1.03646234+0.j, 1.03654381+0.j, 1.03662538+0.j,\n",
       "       1.03670703+0.j, 1.03678878+0.j, 1.03687063+0.j, 1.03695256+0.j,\n",
       "       1.03703459+0.j, 1.03711671+0.j, 1.03719892+0.j, 1.03728123+0.j,\n",
       "       1.03736362+0.j, 1.03744611+0.j, 1.0375287 +0.j, 1.03761137+0.j,\n",
       "       1.03769414+0.j, 1.037777  +0.j, 1.03785996+0.j, 1.037943  +0.j,\n",
       "       1.03802614+0.j, 1.03810937+0.j, 1.0381927 +0.j, 1.03827612+0.j,\n",
       "       1.03835963+0.j, 1.03844323+0.j, 1.03852692+0.j, 1.03861071+0.j,\n",
       "       1.03869459+0.j, 1.03877857+0.j, 1.03886263+0.j, 1.03894679+0.j,\n",
       "       1.03903104+0.j, 1.03911539+0.j, 1.03919983+0.j, 1.03928436+0.j,\n",
       "       1.03936898+0.j, 1.0394537 +0.j, 1.0395385 +0.j, 1.03962341+0.j,\n",
       "       1.0397084 +0.j, 1.03979349+0.j, 1.03987867+0.j, 1.03996394+0.j,\n",
       "       1.0400493 +0.j, 1.04013476+0.j, 1.04022031+0.j, 1.04030596+0.j,\n",
       "       1.0403917 +0.j, 1.04047753+0.j, 1.04056345+0.j, 1.04064947+0.j,\n",
       "       1.04073557+0.j, 1.04082178+0.j, 1.04090807+0.j, 1.04099446+0.j,\n",
       "       1.04108094+0.j, 1.04116751+0.j, 1.04125418+0.j, 1.04134094+0.j,\n",
       "       1.04142779+0.j, 1.04151474+0.j, 1.04160177+0.j, 1.04168891+0.j,\n",
       "       1.04177613+0.j, 1.04186345+0.j, 1.04195086+0.j, 1.04203836+0.j,\n",
       "       1.04212596+0.j, 1.04221365+0.j, 1.04230143+0.j, 1.04238931+0.j,\n",
       "       1.04247728+0.j, 1.04256534+0.j, 1.04265349+0.j, 1.04274174+0.j,\n",
       "       1.04283008+0.j, 1.04291852+0.j, 1.04300704+0.j, 1.04309566+0.j,\n",
       "       1.04318438+0.j, 1.04327318+0.j, 1.04336208+0.j, 1.04345108+0.j,\n",
       "       1.04354016+0.j, 1.04362934+0.j, 1.04371862+0.j, 1.04380798+0.j,\n",
       "       1.04389744+0.j, 1.04398699+0.j, 1.04407664+0.j, 1.04416638+0.j,\n",
       "       1.04425621+0.j, 1.04434614+0.j, 1.04443615+0.j, 1.04452627+0.j,\n",
       "       1.04461647+0.j, 1.04470677+0.j, 1.04479716+0.j, 1.04488765+0.j,\n",
       "       1.04497822+0.j, 1.04506889+0.j, 1.04515966+0.j, 1.04525052+0.j,\n",
       "       1.04534147+0.j, 1.04543251+0.j, 1.04552365+0.j, 1.04561488+0.j,\n",
       "       1.04570621+0.j, 1.04579763+0.j, 1.04588914+0.j, 1.04598074+0.j,\n",
       "       1.04607244+0.j, 1.04616423+0.j, 1.04625612+0.j, 1.0463481 +0.j,\n",
       "       1.04644017+0.j, 1.04653233+0.j, 1.04662459+0.j, 1.04671695+0.j,\n",
       "       1.04680939+0.j, 1.04690193+0.j, 1.04699456+0.j, 1.04708729+0.j,\n",
       "       1.04718011+0.j, 1.04727302+0.j, 1.04736603+0.j, 1.04745913+0.j,\n",
       "       1.04755232+0.j, 1.04764561+0.j, 1.04773899+0.j, 1.04783247+0.j,\n",
       "       1.04792603+0.j, 1.0480197 +0.j, 1.04811345+0.j, 1.0482073 +0.j,\n",
       "       1.04830124+0.j, 1.04839528+0.j, 1.04848941+0.j, 1.04858363+0.j,\n",
       "       1.04867795+0.j, 1.04877236+0.j, 1.04886686+0.j, 1.04896146+0.j,\n",
       "       1.04905615+0.j, 1.04915094+0.j, 1.04924582+0.j, 1.04934079+0.j,\n",
       "       1.04943585+0.j, 1.04953101+0.j, 1.04962627+0.j, 1.04972161+0.j,\n",
       "       1.04981706+0.j, 1.04991259+0.j, 1.05000822+0.j, 1.05010394+0.j,\n",
       "       1.05019976+0.j, 1.05029567+0.j, 1.05039167+0.j, 1.05048777+0.j,\n",
       "       1.05058396+0.j, 1.05068024+0.j, 1.05077662+0.j, 1.05087309+0.j,\n",
       "       1.05096966+0.j, 1.05106632+0.j, 1.05116308+0.j, 1.05125992+0.j,\n",
       "       1.05135687+0.j, 1.0514539 +0.j, 1.05155103+0.j, 1.05164825+0.j,\n",
       "       1.05174557+0.j, 1.05184298+0.j, 1.05194049+0.j, 1.05203809+0.j,\n",
       "       1.05213578+0.j, 1.05223357+0.j, 1.05233145+0.j, 1.05242942+0.j,\n",
       "       1.05252749+0.j, 1.05262566+0.j, 1.05272391+0.j, 1.05282226+0.j,\n",
       "       1.05292071+0.j, 1.05301925+0.j, 1.05311788+0.j, 1.05321661+0.j,\n",
       "       1.05331543+0.j, 1.05341434+0.j, 1.05351335+0.j, 1.05361245+0.j,\n",
       "       1.05371165+0.j, 1.05381094+0.j, 1.05391033+0.j, 1.05400981+0.j,\n",
       "       1.05410938+0.j, 1.05420905+0.j, 1.05430881+0.j, 1.05440867+0.j,\n",
       "       1.05450862+0.j, 1.05460866+0.j, 1.0547088 +0.j, 1.05480903+0.j,\n",
       "       1.05490936+0.j, 1.05500978+0.j, 1.0551103 +0.j, 1.05521091+0.j,\n",
       "       1.05531161+0.j, 1.05541241+0.j, 1.0555133 +0.j, 1.05561429+0.j,\n",
       "       1.05571537+0.j, 1.05581654+0.j, 1.05591781+0.j, 1.05601917+0.j,\n",
       "       1.05612063+0.j, 1.05622218+0.j, 1.05632383+0.j, 1.05642557+0.j,\n",
       "       1.05652741+0.j, 1.05662934+0.j, 1.05673136+0.j, 1.05683348+0.j,\n",
       "       1.05693569+0.j, 1.057038  +0.j, 1.0571404 +0.j, 1.05724289+0.j,\n",
       "       1.05734548+0.j, 1.05744817+0.j, 1.05755095+0.j, 1.05765382+0.j,\n",
       "       1.05775679+0.j, 1.05785985+0.j, 1.05796301+0.j, 1.05806626+0.j,\n",
       "       1.0581696 +0.j, 1.05827304+0.j, 1.05837658+0.j, 1.05848021+0.j,\n",
       "       1.05858393+0.j, 1.05868775+0.j, 1.05879166+0.j, 1.05889567+0.j,\n",
       "       1.05899977+0.j, 1.05910397+0.j, 1.05920826+0.j, 1.05931264+0.j,\n",
       "       1.05941712+0.j, 1.0595217 +0.j, 1.05962637+0.j, 1.05973113+0.j,\n",
       "       1.05983599+0.j, 1.05994094+0.j, 1.06004599+0.j, 1.06015113+0.j,\n",
       "       1.06025637+0.j, 1.0603617 +0.j, 1.06046713+0.j, 1.06057265+0.j,\n",
       "       1.06067826+0.j, 1.06078397+0.j, 1.06088978+0.j, 1.06099568+0.j,\n",
       "       1.06110167+0.j, 1.06120776+0.j, 1.06131395+0.j, 1.06142023+0.j,\n",
       "       1.0615266 +0.j, 1.06163307+0.j, 1.06173963+0.j, 1.06184629+0.j,\n",
       "       1.06195304+0.j, 1.06205989+0.j, 1.06216683+0.j, 1.06227387+0.j,\n",
       "       1.062381  +0.j, 1.06248823+0.j, 1.06259555+0.j, 1.06270297+0.j,\n",
       "       1.06281048+0.j, 1.06291809+0.j, 1.06302579+0.j, 1.06313358+0.j,\n",
       "       1.06324147+0.j, 1.06334946+0.j, 1.06345754+0.j, 1.06356572+0.j,\n",
       "       1.06367399+0.j, 1.06378236+0.j, 1.06389082+0.j, 1.06399937+0.j,\n",
       "       1.06410802+0.j, 1.06421677+0.j, 1.06432561+0.j, 1.06443455+0.j,\n",
       "       1.06454358+0.j, 1.06465271+0.j, 1.06476193+0.j, 1.06487124+0.j])"
      ]
     },
     "execution_count": 72,
     "metadata": {},
     "output_type": "execute_result"
    }
   ],
   "source": [
    "a"
   ]
  },
  {
   "cell_type": "code",
   "execution_count": 83,
   "metadata": {},
   "outputs": [
    {
     "data": {
      "image/png": "[encoded data removed]",
      "text/plain": [
       "<Figure size 432x288 with 1 Axes>"
      ]
     },
     "metadata": {
      "needs_background": "light"
     },
     "output_type": "display_data"
    }
   ],
   "source": [
    "freq = np.arange(2e09,12e09,0.01e09)\n",
    "\n",
    "\n",
    "\n",
    "\n",
    "\n",
    "\n",
    "\n",
    "\n",
    "\n",
    "\n",
    "\n",
    "\n",
    "beta = np.zeros((len(freq)),dtype=complex)\n",
    "a = np.zeros((len(freq)),dtype=complex)\n",
    "b = np.zeros((len(freq)),dtype=complex)\n",
    "c = np.zeros((len(freq)),dtype=complex)\n",
    "d = np.zeros((len(freq)),dtype=complex)\n",
    "lowZ_c = np.zeros((len(freq)),dtype=complex)\n",
    "highZ_c = np.zeros((len(freq)),dtype=complex)\n",
    "\n",
    "tl = TransmissionLine()\n",
    "\n",
    "for i in range(len(freq)):\n",
    "\n",
    "    beta[i] = freq[i] * np.sqrt( (cavity.inductance_per_length() + cavity.Lk()*cav_length) * (cavity.capacitance_per_length()) )\n",
    "    \n",
    "    inp = tl.port(Z0=50)\n",
    "    low_transmission = tl.abcd(low_Z, beta[i],lowZ_length)    \n",
    "    high_transmission = tl.abcd(high_Z,beta[i],highZ_length) \n",
    "    outp = tl.port(Z0=50)\n",
    "    abcd = inp * low_transmission * high_transmission * outp    \n",
    "    a[i] = abcd[0,0]\n",
    "    b[i] = abcd[0,1]\n",
    "    c[i] = abcd[1,0]\n",
    "    d[i] = abcd[1,1]\n",
    "\n",
    "S11,S12,S21,S22 = tl.vec_abcd_to_s(a,b,c,d,50)\n",
    "\n",
    "plt.plot(freq,S22)\n",
    "plt.show()\n",
    "#     highZ_s_params = abcd_to_s(transfer,high_Z)\n",
    "#     highZ_s21[i] = highZ_s_params[1,0]\n",
    "\n"
   ]
  },
  {
   "cell_type": "code",
   "execution_count": null,
   "metadata": {},
   "outputs": [],
   "source": [
    "freq = np.arange(2e09,12e09,.0005e09)\n",
    "beta = np.zeros((len(freq)),dtype=float)\n",
    "lowZ_s11 = np.zeros((len(freq)),dtype=complex)\n",
    "lowZ_s12 = np.zeros((len(freq)),dtype=complex)\n",
    "lowZ_s21 = np.zeros((len(freq)),dtype=complex)\n",
    "lowZ_s22 = np.zeros((len(freq)),dtype=complex)\n",
    "\n",
    "highZ_s11 = np.zeros((len(freq)),dtype=complex)\n",
    "highZ_s12 = np.zeros((len(freq)),dtype=complex)\n",
    "highZ_s21 = np.zeros((len(freq)),dtype=complex)\n",
    "highZ_s22 = np.zeros((len(freq)),dtype=complex)\n",
    "\n",
    "\n",
    "for i in range(len(freq)):\n",
    "    beta[i] = freq[i] * np.sqrt( (cavity.inductance_per_length() + cavity.Lk()*cav_length) * (cavity.capacitance_per_length()) )\n",
    "    transfer = abcd(low_Z, beta[i],lowZ_length)\n",
    "    lowZ_s_params = abcd_to_s(transfer,low_Z)\n",
    "    lowZ_s11[i] = lowZ_s_params[0,0]\n",
    "    lowZ_s12[i] = lowZ_s_params[0,1]\n",
    "    lowZ_s21[i] = lowZ_s_params[1,0]\n",
    "    lowZ_s22[i] = lowZ_s_params[1,1]\n",
    "    \n",
    "    highZ_s_params = abcd_to_s(transfer,high_Z)\n",
    "    highZ_s11[i] = highZ_s_params[0,0]\n",
    "    highZ_s12[i] = highZ_s_params[0,1]\n",
    "    highZ_s21[i] = highZ_s_params[1,0]\n",
    "    highZ_s22[i] = highZ_s_params[1,1]"
   ]
  },
  {
   "cell_type": "code",
   "execution_count": null,
   "metadata": {},
   "outputs": [],
   "source": []
  },
  {
   "cell_type": "code",
   "execution_count": null,
   "metadata": {},
   "outputs": [],
   "source": []
  },
  {
   "cell_type": "code",
   "execution_count": null,
   "metadata": {},
   "outputs": [],
   "source": []
  },
  {
   "cell_type": "code",
   "execution_count": 31,
   "metadata": {},
   "outputs": [
    {
     "ename": "TypeError",
     "evalue": "append() missing 1 required positional argument: 'values'",
     "output_type": "error",
     "traceback": [
      "\u001b[0;31m---------------------------------------------------------------------------\u001b[0m",
      "\u001b[0;31mTypeError\u001b[0m                                 Traceback (most recent call last)",
      "\u001b[0;32m<ipython-input-31-aa0edabbc47d>\u001b[0m in \u001b[0;36m<module>\u001b[0;34m\u001b[0m\n\u001b[1;32m      1\u001b[0m \u001b[0mI\u001b[0m \u001b[0;34m=\u001b[0m \u001b[0mnp\u001b[0m\u001b[0;34m.\u001b[0m\u001b[0mmatrix\u001b[0m\u001b[0;34m(\u001b[0m\u001b[0;34m(\u001b[0m\u001b[0;34m(\u001b[0m\u001b[0;36m1\u001b[0m\u001b[0;34m,\u001b[0m\u001b[0;36m0\u001b[0m\u001b[0;34m)\u001b[0m\u001b[0;34m,\u001b[0m\u001b[0;34m(\u001b[0m\u001b[0;36m0\u001b[0m\u001b[0;34m,\u001b[0m\u001b[0;36m1\u001b[0m\u001b[0;34m)\u001b[0m\u001b[0;34m)\u001b[0m\u001b[0;34m,\u001b[0m\u001b[0mdtype\u001b[0m\u001b[0;34m=\u001b[0m\u001b[0mfloat\u001b[0m\u001b[0;34m)\u001b[0m\u001b[0;34m\u001b[0m\u001b[0m\n\u001b[1;32m      2\u001b[0m \u001b[0mb\u001b[0m \u001b[0;34m=\u001b[0m \u001b[0mnp\u001b[0m\u001b[0;34m.\u001b[0m\u001b[0mmatrix\u001b[0m\u001b[0;34m(\u001b[0m\u001b[0;34m(\u001b[0m\u001b[0;34m(\u001b[0m\u001b[0;36m2\u001b[0m\u001b[0;34m,\u001b[0m\u001b[0;36m0\u001b[0m\u001b[0;34m)\u001b[0m\u001b[0;34m,\u001b[0m\u001b[0;34m(\u001b[0m\u001b[0;36m0\u001b[0m\u001b[0;34m,\u001b[0m\u001b[0;36m2\u001b[0m\u001b[0;34m)\u001b[0m\u001b[0;34m)\u001b[0m\u001b[0;34m,\u001b[0m\u001b[0mdtype\u001b[0m\u001b[0;34m=\u001b[0m\u001b[0mfloat\u001b[0m\u001b[0;34m)\u001b[0m\u001b[0;34m\u001b[0m\u001b[0m\n\u001b[0;32m----> 3\u001b[0;31m \u001b[0mnp\u001b[0m\u001b[0;34m.\u001b[0m\u001b[0mappend\u001b[0m\u001b[0;34m(\u001b[0m\u001b[0;34m(\u001b[0m\u001b[0mb\u001b[0m\u001b[0;34m,\u001b[0m\u001b[0mI\u001b[0m\u001b[0;34m)\u001b[0m\u001b[0;34m,\u001b[0m\u001b[0maxis\u001b[0m\u001b[0;34m=\u001b[0m\u001b[0;36m1\u001b[0m\u001b[0;34m)\u001b[0m\u001b[0;34m\u001b[0m\u001b[0m\n\u001b[0m",
      "\u001b[0;31mTypeError\u001b[0m: append() missing 1 required positional argument: 'values'"
     ]
    }
   ],
   "source": [
    "I = np.matrix(((1,0),(0,1)),dtype=float)\n",
    "b = np.matrix(((2,0),(0,2)),dtype=float)\n",
    "np.append((b,I),axis=1)"
   ]
  },
  {
   "cell_type": "code",
   "execution_count": null,
   "metadata": {},
   "outputs": [],
   "source": []
  }
 ],
 "metadata": {
  "kernelspec": {
   "display_name": "Python 3",
   "language": "python",
   "name": "python3"
  },
  "language_info": {
   "codemirror_mode": {
    "name": "ipython",
    "version": 3
   },
   "file_extension": ".py",
   "mimetype": "text/x-python",
   "name": "python",
   "nbconvert_exporter": "python",
   "pygments_lexer": "ipython3",
   "version": "3.6.3"
  }
 },
 "nbformat": 4,
 "nbformat_minor": 2
}
