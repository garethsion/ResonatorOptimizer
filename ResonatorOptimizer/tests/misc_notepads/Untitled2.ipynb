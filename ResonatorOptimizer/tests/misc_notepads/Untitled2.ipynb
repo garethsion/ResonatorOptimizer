{
 "cells": [
  {
   "cell_type": "code",
   "execution_count": 13,
   "metadata": {},
   "outputs": [],
   "source": [
    "import numpy as np\n",
    "\n",
    "class ABCD:\n",
    "    \"\"\"\n",
    "    ABCD matrix method\n",
    "    \"\"\"\n",
    "\n",
    "    def __init__(self, freq, length, alpha, beta, couplingCapacitance, charImpedance, loadResistance=50):\n",
    "        self.freq = freq\n",
    "        self.length = length\n",
    "        self.gamma = alpha + 1j*beta\n",
    "        self.couplingCapacitance = couplingCapacitance\n",
    "        self.charImpedance = charImpedance\n",
    "        self.loadResistance = loadResistance\n",
    "        \n",
    "        self.s21 = self.s21(self.abcd(\n",
    "            self.input(self.freq, self.couplingCapacitance),\n",
    "            self.transmission(self.freq, self.length, self.gamma, self.charImpedance),\n",
    "            self.output(self.freq, self.couplingCapacitance)),\n",
    "            self.loadResistance)\n",
    "\n",
    "    def input(self, freq, couplingCapacitance):\n",
    "        n=np.size(freq)\n",
    "        Zin = 1/(1j*freq*couplingCapacitance)\n",
    "        return np.append(np.ones(n),[np.zeros(n),Zin,np.ones(n)]).reshape(n,2,2,order='F')\n",
    "        \n",
    "    def output(self, freq, couplingCapacitance):\n",
    "        n=np.size(freq)\n",
    "        Zin = 1/(1j*freq*couplingCapacitance)\n",
    "        return np.append(np.ones(n),[np.zeros(n),Zin,np.ones(n)]).reshape(n,2,2,order='F')\n",
    "        \n",
    "    def transmission(self, freq, length, gamma, charImpedance):\n",
    "        n=np.size(freq)\n",
    "        t11 = np.cosh(gamma * length)\n",
    "        t12 = charImpedance * np.sinh(gamma * length)\n",
    "        t21 = (1/charImpedance) * np.sinh(gamma * length)\n",
    "        t22 = np.cosh(gamma * length)\n",
    "        return np.append(t11*np.ones(n),[t21*np.ones(n),t12*np.ones(n),t22*np.ones(n)]).reshape(n,2,2,order='F')\n",
    "    \n",
    "    def abcd(self, input, transmission, output):\n",
    "        return input*transmission*output\n",
    "    \n",
    "    def s21(self, pABCD, loadResistance):\n",
    "        A = pABCD[:,0,0]\n",
    "        B = pABCD[:,0,1]\n",
    "        C = pABCD[:,1,0]\n",
    "        D = pABCD[:,1,1]\n",
    "        RL = loadResistance\n",
    "        return 2/( A + (B/RL)+ (C*RL) + D )"
   ]
  },
  {
   "cell_type": "code",
   "execution_count": 103,
   "metadata": {},
   "outputs": [
    {
     "name": "stderr",
     "output_type": "stream",
     "text": [
      "/Users/garethjones/anaconda3/lib/python3.6/site-packages/ipykernel_launcher.py:24: RuntimeWarning: divide by zero encountered in true_divide\n",
      "/Users/garethjones/anaconda3/lib/python3.6/site-packages/ipykernel_launcher.py:24: RuntimeWarning: invalid value encountered in true_divide\n",
      "/Users/garethjones/anaconda3/lib/python3.6/site-packages/ipykernel_launcher.py:29: RuntimeWarning: divide by zero encountered in true_divide\n",
      "/Users/garethjones/anaconda3/lib/python3.6/site-packages/ipykernel_launcher.py:29: RuntimeWarning: invalid value encountered in true_divide\n"
     ]
    }
   ],
   "source": [
    "import numpy as np\n",
    "\n",
    "freq = np.arange(0,10,0.01)*1e09\n",
    "length = 8e-03\n",
    "alpha = 2.4e-04\n",
    "beta = 60\n",
    "Ck = 1e-12\n",
    "Z0 = 50\n",
    "\n",
    "tl = ABCD(freq, length, alpha, beta, Ck, Z0, loadResistance=50)\n",
    "\n",
    "s21 = 20*np.log10(tl.s21)"
   ]
  },
  {
   "cell_type": "code",
   "execution_count": 104,
   "metadata": {},
   "outputs": [
    {
     "data": {
      "image/png": "[encoded data removed]",
      "text/plain": [
       "<Figure size 432x288 with 1 Axes>"
      ]
     },
     "metadata": {
      "needs_background": "light"
     },
     "output_type": "display_data"
    }
   ],
   "source": [
    "from matplotlib import pyplot as plt\n",
    "\n",
    "plt.plot(freq,s21)\n",
    "plt.show()"
   ]
  },
  {
   "cell_type": "code",
   "execution_count": 48,
   "metadata": {},
   "outputs": [
    {
     "data": {
      "text/plain": [
       "(1000,)"
      ]
     },
     "execution_count": 48,
     "metadata": {},
     "output_type": "execute_result"
    }
   ],
   "source": [
    "np.shape(s21)"
   ]
  },
  {
   "cell_type": "code",
   "execution_count": null,
   "metadata": {},
   "outputs": [],
   "source": []
  }
 ],
 "metadata": {
  "kernelspec": {
   "display_name": "Python 3",
   "language": "python",
   "name": "python3"
  },
  "language_info": {
   "codemirror_mode": {
    "name": "ipython",
    "version": 3
   },
   "file_extension": ".py",
   "mimetype": "text/x-python",
   "name": "python",
   "nbconvert_exporter": "python",
   "pygments_lexer": "ipython3",
   "version": "3.6.3"
  }
 },
 "nbformat": 4,
 "nbformat_minor": 2
}
