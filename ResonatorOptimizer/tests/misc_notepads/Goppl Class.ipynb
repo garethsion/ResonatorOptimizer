{
 "cells": [
  {
   "cell_type": "code",
   "execution_count": 1,
   "metadata": {},
   "outputs": [],
   "source": [
    "import numpy as np\n",
    "import ResonatorOptimizer as ro\n",
    "import lmfit\n",
    "from lmfit.models import BreitWignerModel,LinearModel\n",
    "from matplotlib import pyplot as plt"
   ]
  },
  {
   "cell_type": "code",
   "execution_count": 119,
   "metadata": {},
   "outputs": [],
   "source": [
    "class Sparams:\n",
    "    def __init__(self,freq=0,Z0=50,length=1e-03,gamma=1,Ck=1e-15):\n",
    "        self.__freq = freq\n",
    "        self.__Z0 = Z0\n",
    "        self.__l = length\n",
    "        self.__gamma = gamma\n",
    "        self.__Ck = Ck\n",
    "        return\n",
    "    \n",
    "    def port(self):\n",
    "        Zport = 1 / (1j*2*np.pi*self.__freq*self.__Ck)\n",
    "        return [np.matrix(((1,Zport[i]),(0,1)),dtype=complex) for i in range(len(freq))]\n",
    "\n",
    "    def transmission(self):\n",
    "        t11 = np.cosh(self.__gamma*self.__l)\n",
    "        t12 = self.__Z0 * np.sinh(self.__gamma*self.__l)\n",
    "        t21 = (1/self.__Z0) * np.sinh(self.__gamma*self.__l)\n",
    "        t22 = np.cosh(self.__gamma*self.__l)\n",
    "        return [np.matrix(([t11[i],t12[i]],[t21[i],t22[i]]),dtype=complex) for i in range(len(gamma))]\n",
    "\n",
    "    def transfer(self,inport,transmission,outport):\n",
    "        return inport * transmission * outport\n",
    "    \n",
    "    def s21_from_abcd(self,abcd,Rload=50,format='db'):\n",
    "        s21_mat = [self.get_s21(abcd_mat[i],Rload,format) for i in range(len(self.__freq))]\n",
    "        s21 = np.array([complex(s21_mat[i]) for i in range(len(s21_mat))])\n",
    "        return s21\n",
    "    \n",
    "    def s21(self,Rload=50,format='db'):\n",
    "        inport = self.port()\n",
    "        tr = self.transmission()\n",
    "        outport = self.port()\n",
    "        abcd_mat = [self.transfer(inport[i],tr[i],outport[i]) for i in range(len(self.__freq))]\n",
    "        s21_mat = [self.get_s21(abcd_mat[i],Rload,format) for i in range(len(self.__freq))]\n",
    "        s21 = np.array([complex(s21_mat[i]) for i in range(len(s21_mat))])\n",
    "        return s21\n",
    "    \n",
    "    def get_s21(self,abcd,Rload,format):\n",
    "        A = abcd.flat[0]\n",
    "        B = abcd.flat[0]\n",
    "        C = abcd.flat[0]\n",
    "        D = abcd.flat[0]\n",
    "\n",
    "        s21 = 2 / (A + (B/Rload) + C*Rload + D)\n",
    "\n",
    "        if format == 'db':\n",
    "            return 20*np.log10(s21)\n",
    "        elif format == 'mag':\n",
    "            return s21\n",
    "        else:\n",
    "            raise ValueError('The format specified is not recognized. Please choose either \\'db\\' or \\'mag\\'')"
   ]
  },
  {
   "cell_type": "code",
   "execution_count": 120,
   "metadata": {},
   "outputs": [],
   "source": [
    "class ResonatorQuality:\n",
    "    def __init__(self,freq,s21,length=1e-03,alpha=0):\n",
    "        self.__freq = freq\n",
    "        self.__s21 = s21\n",
    "        self.__l = length\n",
    "        self.__alpha = alpha\n",
    "        return\n",
    "    \n",
    "    def Qint(self):\n",
    "        return np.pi / (self.__alpha * 2 * self.__l)\n",
    "    \n",
    "    def Qext(self):\n",
    "        return 1/(1/self.Qloaded() - 1/self.Qint())\n",
    "    \n",
    "    def Qloaded(self):\n",
    "        rfit = ResonatorFitting()\n",
    "        fit = rfit.LorentzianFit(self.__freq,self.__s21,plot=False)\n",
    "        return fit.Q.values[0]\n",
    "    \n",
    "    def insertion_loss(self,format='db'):\n",
    "        g = self.Qint()/self.Qext()\n",
    "        if format == 'db':\n",
    "            return -20*np.log10(g/(g+1))\n",
    "        elif format == 'mag':\n",
    "            return g/(g+1)\n",
    "        else:\n",
    "            raise ValueError('The format specified is not recognized. Please choose either \\'db\\' or \\'mag\\'')"
   ]
  },
  {
   "cell_type": "code",
   "execution_count": 121,
   "metadata": {},
   "outputs": [],
   "source": [
    "import lmfit\n",
    "from lmfit.models import BreitWignerModel,LinearModel\n",
    "import pandas as pd\n",
    "\n",
    "class ResonatorFitting:\n",
    "    def __init__(self):\n",
    "        return\n",
    "    \n",
    "    def LorentzianFit(self,freq,trace, plot = True):\n",
    "        \n",
    "        if np.any(np.iscomplex(trace)):\n",
    "            trace = trace.real\n",
    "        \n",
    "        #print (len(trace))\n",
    "        start,stop = None, None                                         #Specifies the window within the data to analyse.\n",
    "        Lin_mod = LinearModel()                                         #Linear lmfit model for background offset and slope\n",
    "        BW_mod = BreitWignerModel()                                     #Breit-Wigner-Fano model\n",
    "        mod = BW_mod+Lin_mod\n",
    "        \n",
    "        x = freq[start:stop]/1E6                                        #Convert frequencies to MHz\n",
    "        trace = (10**(trace/10))                                        #Convert decibel data to linear\n",
    "        y = trace[start:stop]\n",
    "        \n",
    "        pars = BW_mod.guess(y, x=x)                                     #Initialize fit params\n",
    "        pars += Lin_mod.guess(y,x=x, slope = 0, vary = False)           \n",
    "        pars['center'].set(value=x[np.argmax(y)], vary=True, expr='')   #Find the highest transmission value. Corresponding frequency is used as a guess for the centre frequency\n",
    "        pars['sigma'].set(value=0.05, vary=True, expr='')               #Linewidth\n",
    "        pars['q'].set(value=0, vary=True, expr='')                      #Fano factor (asymmetry term). q=0 gives a Lorentzian\n",
    "        pars['amplitude'].set(value=-0.03, vary=True, expr='')          #Amplitude\n",
    "\n",
    "        out  = mod.fit(y,pars,x=x)\n",
    "#         print (out.fit_report())\n",
    "        #print (out.params['amplitude'],out.params['q'],out.params['sigma'])\n",
    "        sigma = out.params['sigma']\n",
    "        centre = out.params['center']\n",
    "        \n",
    "        dic = {'x':x,'y':y,'fit':out.best_fit,'out':out,'sigma':sigma.value,\n",
    "               'centre':centre.value,'Q':centre.value/sigma.value}\n",
    "        \n",
    "        df = pd.DataFrame(data=dic)\n",
    "\n",
    "        if plot == True:\n",
    "            print(out.params['amplitude'],out.params['q'],out.params['sigma'])\n",
    "            plt.plot(x,y, color = 'orange', label = 'Data')\n",
    "            plt.plot(x, out.best_fit, color = 'darkslateblue',label = 'Fano resonance fit')\n",
    "\n",
    "#         return(sigma.value,centre.value,centre.value/sigma.value)       #Returns linewidth in GHz, centre in GHz and Q factor\n",
    "        return df"
   ]
  },
  {
   "cell_type": "code",
   "execution_count": 122,
   "metadata": {},
   "outputs": [],
   "source": [
    "# Global Parameters\n",
    "__er = 11.9\n",
    "__fo = 7.3e09\n",
    "__h = 500e-06\n",
    "__t = 50e-09\n",
    "__pen_depth = 39e-09\n",
    "__total_width = 100e-06\n",
    "__length = 8102.64e-06\n",
    "__width = 20e-06\n",
    "__gap = .5*(__total_width-__width)\n",
    "__Ck = 1e-15\n",
    "\n",
    "freq = np.linspace(6.8,6.9,500)*1e09\n",
    "\n",
    "__keyind = lambda X,X_array: min(enumerate(X_array), key=lambda x: abs(x[1]-X))"
   ]
  },
  {
   "cell_type": "code",
   "execution_count": 123,
   "metadata": {},
   "outputs": [],
   "source": [
    "# Define a cpw \n",
    "cpw = ro.cpwCalcs(__width,__gap,__length,__fo, __er, h=__h, t=__t, pen_depth=__pen_depth)\n",
    "\n",
    "# Gather phase parameters\n",
    "alpha = cpw.alpha()\n",
    "beta = cpw.beta(freq)\n",
    "gamma = cpw.gamma(freq)\n",
    "\n",
    "Z0 = cpw.impedance_kinetic()\n",
    "\n",
    "sp = Sparams(freq=freq,gamma=gamma,length=__length,Z0=Z0,Ck=1e-15)\n",
    "s21 = sp.s21(Rload=50,format='db')"
   ]
  },
  {
   "cell_type": "code",
   "execution_count": 124,
   "metadata": {},
   "outputs": [
    {
     "data": {
      "image/png": "[encoded data removed]",
      "text/plain": [
       "<Figure size 432x288 with 1 Axes>"
      ]
     },
     "metadata": {
      "needs_background": "light"
     },
     "output_type": "display_data"
    }
   ],
   "source": [
    "plt.plot(freq,s21)\n",
    "plt.show()"
   ]
  },
  {
   "cell_type": "code",
   "execution_count": 125,
   "metadata": {},
   "outputs": [
    {
     "name": "stdout",
     "output_type": "stream",
     "text": [
      "<Parameter 'amplitude', 3.3786578955500825e-07, bounds=[-inf:inf]> <Parameter 'q', 120344.58115799997, bounds=[-inf:inf]> <Parameter 'sigma', 0.008250561046099891, bounds=[0.0:inf]>\n"
     ]
    },
    {
     "data": {
      "image/png": "[encoded data removed]",
      "text/plain": [
       "<Figure size 432x288 with 1 Axes>"
      ]
     },
     "metadata": {
      "needs_background": "light"
     },
     "output_type": "display_data"
    }
   ],
   "source": [
    "rfit = ResonatorFitting()\n",
    "fit = rfit.LorentzianFit(freq,s21,plot=True)"
   ]
  },
  {
   "cell_type": "code",
   "execution_count": 126,
   "metadata": {},
   "outputs": [],
   "source": [
    "qual = ResonatorQuality(freq,s21,length=__length,alpha=alpha)\n",
    "Ql = qual.Qloaded()"
   ]
  },
  {
   "cell_type": "code",
   "execution_count": 127,
   "metadata": {},
   "outputs": [],
   "source": [
    "Qint = qual.Qint()"
   ]
  },
  {
   "cell_type": "code",
   "execution_count": 128,
   "metadata": {},
   "outputs": [
    {
     "data": {
      "text/plain": [
       "1300288.7346594501"
      ]
     },
     "execution_count": 128,
     "metadata": {},
     "output_type": "execute_result"
    }
   ],
   "source": [
    "Qint"
   ]
  },
  {
   "cell_type": "code",
   "execution_count": 129,
   "metadata": {},
   "outputs": [],
   "source": [
    "Qext = qual.Qext()"
   ]
  },
  {
   "cell_type": "code",
   "execution_count": 130,
   "metadata": {},
   "outputs": [
    {
     "data": {
      "text/plain": [
       "2324053.7088962863"
      ]
     },
     "execution_count": 130,
     "metadata": {},
     "output_type": "execute_result"
    }
   ],
   "source": [
    "Qext"
   ]
  },
  {
   "cell_type": "code",
   "execution_count": 131,
   "metadata": {},
   "outputs": [
    {
     "data": {
      "text/plain": [
       "8.903788500151968"
      ]
     },
     "execution_count": 131,
     "metadata": {},
     "output_type": "execute_result"
    }
   ],
   "source": [
    "qual.insertion_loss(format='db')"
   ]
  },
  {
   "cell_type": "code",
   "execution_count": null,
   "metadata": {},
   "outputs": [],
   "source": []
  }
 ],
 "metadata": {
  "kernelspec": {
   "display_name": "Python 3",
   "language": "python",
   "name": "python3"
  },
  "language_info": {
   "codemirror_mode": {
    "name": "ipython",
    "version": 3
   },
   "file_extension": ".py",
   "mimetype": "text/x-python",
   "name": "python",
   "nbconvert_exporter": "python",
   "pygments_lexer": "ipython3",
   "version": "3.6.3"
  }
 },
 "nbformat": 4,
 "nbformat_minor": 2
}
