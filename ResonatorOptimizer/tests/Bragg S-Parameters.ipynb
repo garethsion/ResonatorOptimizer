{
 "cells": [
  {
   "cell_type": "code",
   "execution_count": 1,
   "metadata": {},
   "outputs": [],
   "source": [
    "import ResonatorOptimizer as ro\n",
    "import numpy as np\n",
    "import pandas as pd\n",
    "from matplotlib import pyplot as plt\n",
    "plt.style.use('seaborn-deep')"
   ]
  },
  {
   "cell_type": "code",
   "execution_count": 2,
   "metadata": {},
   "outputs": [],
   "source": [
    "# Global Parameters\n",
    "__er = 11.9\n",
    "__fo = 7.3e09\n",
    "__h = 500e-06\n",
    "__t = 50e-09\n",
    "__pen_depth = 39e-09\n",
    "__total_width = 80e-06\n",
    "# __total_width_max = 100e-06\n",
    "__length = 8102.64e-06\n",
    "freq = np.linspace(2,12,30000)*1e09\n",
    "# freq = np.linspace(7.1,7.3,2000)*1e09\n",
    "\n",
    "__keyind = lambda X,X_array: min(enumerate(X_array), key=lambda x: abs(x[1]-X))"
   ]
  },
  {
   "cell_type": "markdown",
   "metadata": {},
   "source": [
    "# Create Cavity Object"
   ]
  },
  {
   "cell_type": "code",
   "execution_count": 3,
   "metadata": {},
   "outputs": [
    {
     "data": {
      "text/plain": [
       "7.194232896093253"
      ]
     },
     "execution_count": 3,
     "metadata": {},
     "output_type": "execute_result"
    }
   ],
   "source": [
    "# cav_width, cav_gap, cav_length = [4e-06, 38e-06, 3502.64e-06]\n",
    "cav_width, cav_gap, cav_length = [21.6e-06, 11.1e-06, 8102.64e-06]\n",
    "lambda_cav = 2*cav_length\n",
    "cavity = ro.cpwCalcs(cav_width,cav_gap,cav_length,__fo, __er, h=__h, t=__t, pen_depth=__pen_depth,wavelength=lambda_cav)\n",
    "cav_f0 = 1 / (2 *cav_length* np.sqrt(cavity.capacitance_per_length() * cavity.Ltotal()))\n",
    "cav_f0*1e-09"
   ]
  },
  {
   "cell_type": "markdown",
   "metadata": {},
   "source": [
    "# Create Low Z Object"
   ]
  },
  {
   "cell_type": "code",
   "execution_count": 4,
   "metadata": {},
   "outputs": [
    {
     "data": {
      "text/plain": [
       "7.193114258877974"
      ]
     },
     "execution_count": 4,
     "metadata": {},
     "output_type": "execute_result"
    }
   ],
   "source": [
    "# lowZ_width, lowZ_gap, lowZ_length = [10e-06, 35e-06, 3516.64e-06]\n",
    "lowZ_width, lowZ_gap, lowZ_length = [36.6e-06, 3.6e-06, 4091.32e-06]\n",
    "lambda_lowZ = 4*lowZ_length\n",
    "lowZ = ro.cpwCalcs(lowZ_width,lowZ_gap,lowZ_length,__fo, __er, h=__h, t=__t, pen_depth=__pen_depth,wavelength=lambda_lowZ)\n",
    "low_f0 = 1 / (4 * lowZ_length* np.sqrt(lowZ.capacitance_per_length() * lowZ.Ltotal() ) )\n",
    "low_f0*1e-09"
   ]
  },
  {
   "cell_type": "markdown",
   "metadata": {},
   "source": [
    "# Create High Z Object"
   ]
  },
  {
   "cell_type": "code",
   "execution_count": 5,
   "metadata": {},
   "outputs": [
    {
     "data": {
      "text/plain": [
       "7.198469921896215"
      ]
     },
     "execution_count": 5,
     "metadata": {},
     "output_type": "execute_result"
    }
   ],
   "source": [
    "# highZ_width, highZ_gap, highZ_length = [10e-06, 35e-06, 3516.64e-06]\n",
    "highZ_width, highZ_gap, highZ_length = [7.8e-06, 18e-06, 3566.32e-06]\n",
    "lambda_highZ = 4*lowZ_length\n",
    "highZ = ro.cpwCalcs(highZ_width,highZ_gap,highZ_length,__fo, __er, h=__h, t=__t, pen_depth=__pen_depth,wavelength=lambda_highZ)\n",
    "high_f0 = 1 / (4 * highZ_length* np.sqrt(highZ.capacitance_per_length() * highZ.Ltotal() ) )\n",
    "high_f0*1e-09"
   ]
  },
  {
   "cell_type": "markdown",
   "metadata": {},
   "source": [
    "# Get ABCD matrices"
   ]
  },
  {
   "cell_type": "code",
   "execution_count": 6,
   "metadata": {},
   "outputs": [],
   "source": [
    "def get_abcd(cpw,freq,length):\n",
    "    gamma = cpw.gamma(freq,tan_d=10)\n",
    "    Z0 = cpw.impedance_kinetic()\n",
    "\n",
    "    sp = ro.Sparams(freq=freq,gamma=gamma,length=length,Z0=Z0)\n",
    "    abcd = sp.transmission()\n",
    "    return abcd"
   ]
  },
  {
   "cell_type": "code",
   "execution_count": 7,
   "metadata": {},
   "outputs": [],
   "source": [
    "cav_abcd = get_abcd(cavity,freq,cav_length)\n",
    "lowZ_abcd = get_abcd(lowZ,freq,lowZ_length)\n",
    "highZ_abcd = get_abcd(highZ,freq,highZ_length)"
   ]
  },
  {
   "cell_type": "markdown",
   "metadata": {},
   "source": [
    "# Define Bragg Geometry"
   ]
  },
  {
   "cell_type": "code",
   "execution_count": 8,
   "metadata": {},
   "outputs": [],
   "source": [
    "mirror_lhs = [np.matmul(lowZ_abcd[i], highZ_abcd[i]) for i in range(len(freq))]\n",
    "mirror_rhs = [np.matmul(highZ_abcd[i], lowZ_abcd[i]) for i in range(len(freq))]\n",
    "bragg = [np.matmul(mirror_lhs[i]**5, np.matmul(cav_abcd[i], mirror_rhs[i]**5)) for i in range(len(freq))]\n",
    "\n",
    "# mirror_lhs = [lowZ_abcd[i] * highZ_abcd[i] * lowZ_abcd[i] * highZ_abcd[i] * lowZ_abcd[i] * highZ_abcd[i] * lowZ_abcd[i] * highZ_abcd[i] for i in range(len(freq))]\n",
    "# mirror_rhs = [highZ_abcd[i] * lowZ_abcd[i] * highZ_abcd[i] * lowZ_abcd[i] * highZ_abcd[i] * lowZ_abcd[i] * highZ_abcd[i] * lowZ_abcd[i] * highZ_abcd[i] * lowZ_abcd[i] for i in range(len(freq))]\n",
    "# bragg = [mirror_lhs[i] * cav_abcd[i] * mirror_rhs[i] for i in range(len(freq))]\n",
    "\n",
    "sp = ro.Sparams(freq=freq)\n",
    "bragg_s21 = sp.s21_from_abcd(bragg)"
   ]
  },
  {
   "cell_type": "code",
   "execution_count": 9,
   "metadata": {},
   "outputs": [
    {
     "data": {
      "image/png": "[encoded data removed]",
      "text/plain": [
       "<Figure size 864x576 with 1 Axes>"
      ]
     },
     "metadata": {
      "needs_background": "light"
     },
     "output_type": "display_data"
    }
   ],
   "source": [
    "plt.figure(figsize=(12,8))\n",
    "plt.plot(freq*1e-09,bragg_s21.real)\n",
    "# plt.ylim(-100,40)\n",
    "plt.show()"
   ]
  },
  {
   "cell_type": "code",
   "execution_count": null,
   "metadata": {},
   "outputs": [],
   "source": []
  },
  {
   "cell_type": "code",
   "execution_count": null,
   "metadata": {},
   "outputs": [],
   "source": []
  }
 ],
 "metadata": {
  "kernelspec": {
   "display_name": "Python 3",
   "language": "python",
   "name": "python3"
  },
  "language_info": {
   "codemirror_mode": {
    "name": "ipython",
    "version": 3
   },
   "file_extension": ".py",
   "mimetype": "text/x-python",
   "name": "python",
   "nbconvert_exporter": "python",
   "pygments_lexer": "ipython3",
   "version": "3.6.3"
  }
 },
 "nbformat": 4,
 "nbformat_minor": 2
}
