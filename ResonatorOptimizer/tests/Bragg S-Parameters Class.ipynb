{
 "cells": [
  {
   "cell_type": "code",
   "execution_count": 1,
   "metadata": {},
   "outputs": [],
   "source": [
    "import ResonatorOptimizer as ro\n",
    "import numpy as np\n",
    "import pandas as pd\n",
    "from matplotlib import pyplot as plt\n",
    "plt.style.use('seaborn-deep')"
   ]
  },
  {
   "cell_type": "code",
   "execution_count": 2,
   "metadata": {},
   "outputs": [],
   "source": [
    "# Global Parameters\n",
    "__er = 11.9\n",
    "__fo = 7.3e09\n",
    "__h = 500e-06\n",
    "__t = 50e-09\n",
    "__pen_depth = 39e-09\n",
    "__total_width = 43.6e-06\n",
    "__length = 8102.64e-06\n",
    "freq = np.linspace(2,12,30000)*1e09\n",
    "\n",
    "__keyind = lambda X,X_array: min(enumerate(X_array), key=lambda x: abs(x[1]-X))"
   ]
  },
  {
   "cell_type": "code",
   "execution_count": 3,
   "metadata": {},
   "outputs": [],
   "source": [
    "class Bragg:\n",
    "    def __init__(self,fo,er,h,t,pen_depth):\n",
    "        self.__fo = fo\n",
    "        self.__er = er\n",
    "        self.__h = h\n",
    "        self.__t = t\n",
    "        self.__pen_depth = pen_depth\n",
    "        return\n",
    "    \n",
    "    def get_abcd(self,cpw,freq,length):\n",
    "        gamma = cpw.gamma(freq,tan_d=0)\n",
    "        Z0 = cpw.impedance_kinetic()\n",
    "\n",
    "        sp = ro.Sparams(freq=freq,gamma=gamma,length=length,Z0=Z0)\n",
    "        abcd = sp.transmission()\n",
    "        return abcd\n",
    "\n",
    "    def cpw_section(self,width, gap, length):\n",
    "        cpw = ro.cpwCalcs(width,gap,length,self.__fo, self.__er, h=self.__h, t=self.__t, pen_depth=self.__pen_depth)\n",
    "        return cpw\n",
    "\n",
    "    def bragg_resonator(self,freq,lowZ, highZ, cavity):  \n",
    "        cav_abcd = self.get_abcd(cavity,freq,cavity.cpw_params().length.values[0])\n",
    "        lowZ_abcd = self.get_abcd(lowZ,freq,lowZ.cpw_params().length.values[0])\n",
    "        highZ_abcd = self.get_abcd(highZ,freq,highZ.cpw_params().length.values[0])\n",
    "        \n",
    "        mirror_lhs = [np.matmul(lowZ_abcd[i], highZ_abcd[i]) for i in range(len(freq))]\n",
    "        mirror_rhs = [np.matmul(highZ_abcd[i], lowZ_abcd[i]) for i in range(len(freq))]\n",
    "        bragg = [np.matmul(mirror_lhs[i]**5, np.matmul(cav_abcd[i], mirror_rhs[i]**5)) for i in range(len(freq))]\n",
    "\n",
    "        sp = ro.Sparams(freq=freq)\n",
    "        bragg_s21 = sp.s21_from_abcd(bragg)\n",
    "        return bragg_s21"
   ]
  },
  {
   "cell_type": "code",
   "execution_count": 3,
   "metadata": {},
   "outputs": [],
   "source": [
    "br = ro.Bragg(__fo,__er,__h,__t,__pen_depth)\n",
    "\n",
    "cav_width, cav_gap, cav_length = [21.6e-06, 11.1e-06, 8102.64e-06]\n",
    "cavity = br.cpw_section(cav_width, cav_gap, cav_length)\n",
    "\n",
    "lowZ_width, lowZ_gap, lowZ_length = [36.6e-06, 3.6e-06, 4091.32e-06]\n",
    "lowZ = br.cpw_section(lowZ_width, lowZ_gap, lowZ_length)\n",
    "\n",
    "highZ_width, highZ_gap, highZ_length = [7.8e-06, 18e-06, 3566.32e-06]\n",
    "highZ = br.cpw_section(highZ_width, highZ_gap, highZ_length)\n",
    "\n",
    "bragg = br.bragg_resonator(freq,lowZ, highZ, cavity)"
   ]
  },
  {
   "cell_type": "code",
   "execution_count": 4,
   "metadata": {},
   "outputs": [
    {
     "name": "stderr",
     "output_type": "stream",
     "text": [
      "/Users/garethjones/anaconda3/lib/python3.6/site-packages/numpy/core/numeric.py:538: ComplexWarning: Casting complex values to real discards the imaginary part\n",
      "  return array(a, dtype, copy=False, order=order)\n"
     ]
    },
    {
     "data": {
      "image/png": "[encoded data removed]",
      "text/plain": [
       "<Figure size 432x288 with 1 Axes>"
      ]
     },
     "metadata": {
      "needs_background": "light"
     },
     "output_type": "display_data"
    }
   ],
   "source": [
    "plt.plot(freq,bragg)\n",
    "plt.show()"
   ]
  },
  {
   "cell_type": "code",
   "execution_count": null,
   "metadata": {},
   "outputs": [],
   "source": []
  },
  {
   "cell_type": "code",
   "execution_count": null,
   "metadata": {},
   "outputs": [],
   "source": []
  }
 ],
 "metadata": {
  "kernelspec": {
   "display_name": "Python 3",
   "language": "python",
   "name": "python3"
  },
  "language_info": {
   "codemirror_mode": {
    "name": "ipython",
    "version": 3
   },
   "file_extension": ".py",
   "mimetype": "text/x-python",
   "name": "python",
   "nbconvert_exporter": "python",
   "pygments_lexer": "ipython3",
   "version": "3.6.3"
  }
 },
 "nbformat": 4,
 "nbformat_minor": 2
}
